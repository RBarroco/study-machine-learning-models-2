{
 "cells": [
  {
   "cell_type": "markdown",
   "metadata": {},
   "source": [
    "Train an SVM classifier on the MNIST dataset. Since SVM classifiers are binary\n",
    "classifiers, you will need to use one-versus-all to classify all 10 digits. You may\n",
    "want to tune the hyperparameters using small validation sets to speed up the pro‐\n",
    "cess.\n",
    "\n",
    "Check for the best accuracy we can get."
   ]
  },
  {
   "cell_type": "code",
   "execution_count": 6,
   "metadata": {},
   "outputs": [],
   "source": [
    "import numpy as np\n",
    "from sklearn.svm import SVC, LinearSVC\n",
    "from sklearn.linear_model import SGDClassifier\n",
    "from sklearn.preprocessing import StandardScaler"
   ]
  },
  {
   "cell_type": "code",
   "execution_count": 2,
   "metadata": {},
   "outputs": [],
   "source": [
    "from sklearn.datasets import fetch_openml\n",
    "mnist = fetch_openml('mnist_784', version=1, cache=True)\n",
    "\n",
    "X = mnist['data']\n",
    "y = mnist['target']\n",
    "\n",
    "X_train = X[:60000]\n",
    "y_train = y[:60000]\n",
    "X_test = X[60000:]\n",
    "y_test = y[60000:]"
   ]
  },
  {
   "cell_type": "code",
   "execution_count": 5,
   "metadata": {},
   "outputs": [],
   "source": [
    "# Shuffled the data\n",
    "np.random.seed(42)\n",
    "rnd_idx = np.random.permutation(60000)\n",
    "X_train = X_train[rnd_idx]\n",
    "y_train = y_train[rnd_idx]"
   ]
  },
  {
   "cell_type": "markdown",
   "metadata": {},
   "source": [
    "Let's start simple, with a linear SVM classifier. It will automatically use the One-vs-All\n",
    "(also called One-vs-the-Rest, OvR) strategy, so there's nothing special we need to do."
   ]
  },
  {
   "cell_type": "code",
   "execution_count": 7,
   "metadata": {},
   "outputs": [
    {
     "name": "stderr",
     "output_type": "stream",
     "text": [
      "C:\\Projects\\DATA-SCIENCE\\Projects\\machine-learning-python-books\\env\\lib\\site-packages\\sklearn\\svm\\_base.py:946: ConvergenceWarning: Liblinear failed to converge, increase the number of iterations.\n",
      "  warnings.warn(\"Liblinear failed to converge, increase \"\n"
     ]
    },
    {
     "data": {
      "text/plain": [
       "LinearSVC(C=1.0, class_weight=None, dual=True, fit_intercept=True,\n",
       "          intercept_scaling=1, loss='squared_hinge', max_iter=1000,\n",
       "          multi_class='ovr', penalty='l2', random_state=42, tol=0.0001,\n",
       "          verbose=0)"
      ]
     },
     "execution_count": 7,
     "metadata": {},
     "output_type": "execute_result"
    }
   ],
   "source": [
    "lin_clf = LinearSVC(random_state=42)\n",
    "lin_clf.fit(X_train, y_train)"
   ]
  },
  {
   "cell_type": "code",
   "execution_count": 8,
   "metadata": {},
   "outputs": [
    {
     "data": {
      "text/plain": [
       "0.8827333333333334"
      ]
     },
     "execution_count": 8,
     "metadata": {},
     "output_type": "execute_result"
    }
   ],
   "source": [
    "from sklearn.metrics import accuracy_score\n",
    "\n",
    "y_pred = lin_clf.predict(X_train)\n",
    "accuracy_score(y_train, y_pred)"
   ]
  },
  {
   "cell_type": "code",
   "execution_count": 9,
   "metadata": {},
   "outputs": [],
   "source": [
    "scaler = StandardScaler()\n",
    "X_train_scaled = scaler.fit_transform(X_train.astype(np.float32))\n",
    "X_test_scaled = scaler.transform(X_test.astype(np.float32))"
   ]
  },
  {
   "cell_type": "code",
   "execution_count": 10,
   "metadata": {},
   "outputs": [
    {
     "name": "stderr",
     "output_type": "stream",
     "text": [
      "C:\\Projects\\DATA-SCIENCE\\Projects\\machine-learning-python-books\\env\\lib\\site-packages\\sklearn\\svm\\_base.py:946: ConvergenceWarning: Liblinear failed to converge, increase the number of iterations.\n",
      "  warnings.warn(\"Liblinear failed to converge, increase \"\n"
     ]
    },
    {
     "data": {
      "text/plain": [
       "LinearSVC(C=1.0, class_weight=None, dual=True, fit_intercept=True,\n",
       "          intercept_scaling=1, loss='squared_hinge', max_iter=1000,\n",
       "          multi_class='ovr', penalty='l2', random_state=42, tol=0.0001,\n",
       "          verbose=0)"
      ]
     },
     "execution_count": 10,
     "metadata": {},
     "output_type": "execute_result"
    }
   ],
   "source": [
    "lin_clf = LinearSVC(random_state=42)\n",
    "lin_clf.fit(X_train_scaled, y_train)"
   ]
  },
  {
   "cell_type": "code",
   "execution_count": 11,
   "metadata": {},
   "outputs": [
    {
     "data": {
      "text/plain": [
       "0.9227666666666666"
      ]
     },
     "execution_count": 11,
     "metadata": {},
     "output_type": "execute_result"
    }
   ],
   "source": [
    "y_pred = lin_clf.predict(X_train_scaled)\n",
    "accuracy_score(y_train, y_pred)"
   ]
  },
  {
   "cell_type": "markdown",
   "metadata": {},
   "source": [
    "SVC with an RBF kernel (the default)."
   ]
  },
  {
   "cell_type": "code",
   "execution_count": 13,
   "metadata": {},
   "outputs": [
    {
     "data": {
      "text/plain": [
       "SVC(C=1.0, break_ties=False, cache_size=200, class_weight=None, coef0=0.0,\n",
       "    decision_function_shape='ovr', degree=3, gamma='auto', kernel='rbf',\n",
       "    max_iter=-1, probability=False, random_state=None, shrinking=True,\n",
       "    tol=0.001, verbose=False)"
      ]
     },
     "execution_count": 13,
     "metadata": {},
     "output_type": "execute_result"
    }
   ],
   "source": [
    "svm_clf = SVC(decision_function_shape='ovr', gamma='auto')\n",
    "svm_clf.fit(X_train_scaled[:10000], y_train[:10000])"
   ]
  },
  {
   "cell_type": "code",
   "execution_count": 14,
   "metadata": {},
   "outputs": [
    {
     "data": {
      "text/plain": [
       "0.9476"
      ]
     },
     "execution_count": 14,
     "metadata": {},
     "output_type": "execute_result"
    }
   ],
   "source": [
    "y_pred = svm_clf.predict(X_train_scaled)\n",
    "accuracy_score(y_train, y_pred)"
   ]
  },
  {
   "cell_type": "markdown",
   "metadata": {},
   "source": [
    "Let's tune the hyperparameters by doing a randomized search with cross validation.\n",
    "We will do this on a small dataset just to speed up the process:"
   ]
  },
  {
   "cell_type": "code",
   "execution_count": 15,
   "metadata": {},
   "outputs": [
    {
     "name": "stdout",
     "output_type": "stream",
     "text": [
      "Fitting 3 folds for each of 10 candidates, totalling 30 fits\n",
      "[CV] C=8.852316058423087, gamma=0.001766074650481071 .................\n"
     ]
    },
    {
     "name": "stderr",
     "output_type": "stream",
     "text": [
      "[Parallel(n_jobs=1)]: Using backend SequentialBackend with 1 concurrent workers.\n"
     ]
    },
    {
     "name": "stdout",
     "output_type": "stream",
     "text": [
      "[CV] .. C=8.852316058423087, gamma=0.001766074650481071, total=   0.9s\n",
      "[CV] C=8.852316058423087, gamma=0.001766074650481071 .................\n"
     ]
    },
    {
     "name": "stderr",
     "output_type": "stream",
     "text": [
      "[Parallel(n_jobs=1)]: Done   1 out of   1 | elapsed:    0.8s remaining:    0.0s\n"
     ]
    },
    {
     "name": "stdout",
     "output_type": "stream",
     "text": [
      "[CV] .. C=8.852316058423087, gamma=0.001766074650481071, total=   0.9s\n",
      "[CV] C=8.852316058423087, gamma=0.001766074650481071 .................\n",
      "[CV] .. C=8.852316058423087, gamma=0.001766074650481071, total=   0.9s\n",
      "[CV] C=1.8271960104746645, gamma=0.006364737055453384 ................\n",
      "[CV] . C=1.8271960104746645, gamma=0.006364737055453384, total=   1.1s\n",
      "[CV] C=1.8271960104746645, gamma=0.006364737055453384 ................\n",
      "[CV] . C=1.8271960104746645, gamma=0.006364737055453384, total=   1.1s\n",
      "[CV] C=1.8271960104746645, gamma=0.006364737055453384 ................\n",
      "[CV] . C=1.8271960104746645, gamma=0.006364737055453384, total=   1.1s\n",
      "[CV] C=9.875199193765326, gamma=0.051349833451870636 .................\n",
      "[CV] .. C=9.875199193765326, gamma=0.051349833451870636, total=   1.1s\n",
      "[CV] C=9.875199193765326, gamma=0.051349833451870636 .................\n",
      "[CV] .. C=9.875199193765326, gamma=0.051349833451870636, total=   1.1s\n",
      "[CV] C=9.875199193765326, gamma=0.051349833451870636 .................\n",
      "[CV] .. C=9.875199193765326, gamma=0.051349833451870636, total=   1.1s\n",
      "[CV] C=6.59992909281409, gamma=0.05991666578466177 ...................\n",
      "[CV] .... C=6.59992909281409, gamma=0.05991666578466177, total=   1.1s\n",
      "[CV] C=6.59992909281409, gamma=0.05991666578466177 ...................\n",
      "[CV] .... C=6.59992909281409, gamma=0.05991666578466177, total=   1.1s\n",
      "[CV] C=6.59992909281409, gamma=0.05991666578466177 ...................\n",
      "[CV] .... C=6.59992909281409, gamma=0.05991666578466177, total=   1.1s\n",
      "[CV] C=9.053435975487119, gamma=0.003596490522533181 .................\n",
      "[CV] .. C=9.053435975487119, gamma=0.003596490522533181, total=   1.1s\n",
      "[CV] C=9.053435975487119, gamma=0.003596490522533181 .................\n",
      "[CV] .. C=9.053435975487119, gamma=0.003596490522533181, total=   1.0s\n",
      "[CV] C=9.053435975487119, gamma=0.003596490522533181 .................\n",
      "[CV] .. C=9.053435975487119, gamma=0.003596490522533181, total=   1.0s\n",
      "[CV] C=2.701062804458301, gamma=0.004002330992905356 .................\n",
      "[CV] .. C=2.701062804458301, gamma=0.004002330992905356, total=   1.1s\n",
      "[CV] C=2.701062804458301, gamma=0.004002330992905356 .................\n",
      "[CV] .. C=2.701062804458301, gamma=0.004002330992905356, total=   1.0s\n",
      "[CV] C=2.701062804458301, gamma=0.004002330992905356 .................\n",
      "[CV] .. C=2.701062804458301, gamma=0.004002330992905356, total=   1.0s\n",
      "[CV] C=3.2711787843881437, gamma=0.017596957507461645 ................\n",
      "[CV] . C=3.2711787843881437, gamma=0.017596957507461645, total=   1.1s\n",
      "[CV] C=3.2711787843881437, gamma=0.017596957507461645 ................\n",
      "[CV] . C=3.2711787843881437, gamma=0.017596957507461645, total=   1.1s\n",
      "[CV] C=3.2711787843881437, gamma=0.017596957507461645 ................\n",
      "[CV] . C=3.2711787843881437, gamma=0.017596957507461645, total=   1.1s\n",
      "[CV] C=6.848991127746501, gamma=0.01573529056426603 ..................\n",
      "[CV] ... C=6.848991127746501, gamma=0.01573529056426603, total=   1.1s\n",
      "[CV] C=6.848991127746501, gamma=0.01573529056426603 ..................\n",
      "[CV] ... C=6.848991127746501, gamma=0.01573529056426603, total=   1.1s\n",
      "[CV] C=6.848991127746501, gamma=0.01573529056426603 ..................\n",
      "[CV] ... C=6.848991127746501, gamma=0.01573529056426603, total=   1.1s\n",
      "[CV] C=2.893035364914488, gamma=0.03834647526105027 ..................\n",
      "[CV] ... C=2.893035364914488, gamma=0.03834647526105027, total=   1.1s\n",
      "[CV] C=2.893035364914488, gamma=0.03834647526105027 ..................\n",
      "[CV] ... C=2.893035364914488, gamma=0.03834647526105027, total=   1.1s\n",
      "[CV] C=2.893035364914488, gamma=0.03834647526105027 ..................\n",
      "[CV] ... C=2.893035364914488, gamma=0.03834647526105027, total=   1.1s\n",
      "[CV] C=5.336260835426313, gamma=0.008808538172595842 .................\n",
      "[CV] .. C=5.336260835426313, gamma=0.008808538172595842, total=   1.1s\n",
      "[CV] C=5.336260835426313, gamma=0.008808538172595842 .................\n",
      "[CV] .. C=5.336260835426313, gamma=0.008808538172595842, total=   1.1s\n",
      "[CV] C=5.336260835426313, gamma=0.008808538172595842 .................\n",
      "[CV] .. C=5.336260835426313, gamma=0.008808538172595842, total=   1.1s\n"
     ]
    },
    {
     "name": "stderr",
     "output_type": "stream",
     "text": [
      "[Parallel(n_jobs=1)]: Done  30 out of  30 | elapsed:   32.1s finished\n"
     ]
    },
    {
     "data": {
      "text/plain": [
       "RandomizedSearchCV(cv=3, error_score=nan,\n",
       "                   estimator=SVC(C=1.0, break_ties=False, cache_size=200,\n",
       "                                 class_weight=None, coef0=0.0,\n",
       "                                 decision_function_shape='ovr', degree=3,\n",
       "                                 gamma='auto', kernel='rbf', max_iter=-1,\n",
       "                                 probability=False, random_state=None,\n",
       "                                 shrinking=True, tol=0.001, verbose=False),\n",
       "                   iid='deprecated', n_iter=10, n_jobs=None,\n",
       "                   param_distributions={'C': <scipy.stats._distn_infrastructure.rv_frozen object at 0x0000025833FE07C0>,\n",
       "                                        'gamma': <scipy.stats._distn_infrastructure.rv_frozen object at 0x000002583EA50B20>},\n",
       "                   pre_dispatch='2*n_jobs', random_state=None, refit=True,\n",
       "                   return_train_score=False, scoring=None, verbose=2)"
      ]
     },
     "execution_count": 15,
     "metadata": {},
     "output_type": "execute_result"
    }
   ],
   "source": [
    "from sklearn.model_selection import RandomizedSearchCV\n",
    "from scipy.stats import reciprocal, uniform\n",
    "\n",
    "param_distributions = {'gamma': reciprocal(0.001, 0.1), \"C\": uniform(1,10)}\n",
    "rnd_search_cv = RandomizedSearchCV(svm_clf, param_distributions, n_iter=10, verbose=2, cv=3)\n",
    "rnd_search_cv.fit(X_train_scaled[:1000], y_train[:1000])"
   ]
  },
  {
   "cell_type": "code",
   "execution_count": 16,
   "metadata": {},
   "outputs": [
    {
     "data": {
      "text/plain": [
       "SVC(C=8.852316058423087, break_ties=False, cache_size=200, class_weight=None,\n",
       "    coef0=0.0, decision_function_shape='ovr', degree=3,\n",
       "    gamma=0.001766074650481071, kernel='rbf', max_iter=-1, probability=False,\n",
       "    random_state=None, shrinking=True, tol=0.001, verbose=False)"
      ]
     },
     "execution_count": 16,
     "metadata": {},
     "output_type": "execute_result"
    }
   ],
   "source": [
    "rnd_search_cv.best_estimator_"
   ]
  },
  {
   "cell_type": "code",
   "execution_count": 17,
   "metadata": {},
   "outputs": [
    {
     "data": {
      "text/plain": [
       "0.8630037222851593"
      ]
     },
     "execution_count": 17,
     "metadata": {},
     "output_type": "execute_result"
    }
   ],
   "source": [
    "rnd_search_cv.best_score_"
   ]
  },
  {
   "cell_type": "code",
   "execution_count": 18,
   "metadata": {},
   "outputs": [
    {
     "data": {
      "text/plain": [
       "SVC(C=8.852316058423087, break_ties=False, cache_size=200, class_weight=None,\n",
       "    coef0=0.0, decision_function_shape='ovr', degree=3,\n",
       "    gamma=0.001766074650481071, kernel='rbf', max_iter=-1, probability=False,\n",
       "    random_state=None, shrinking=True, tol=0.001, verbose=False)"
      ]
     },
     "execution_count": 18,
     "metadata": {},
     "output_type": "execute_result"
    }
   ],
   "source": [
    "rnd_search_cv.best_estimator_.fit(X_train_scaled, y_train)"
   ]
  },
  {
   "cell_type": "code",
   "execution_count": 19,
   "metadata": {},
   "outputs": [
    {
     "data": {
      "text/plain": [
       "0.99965"
      ]
     },
     "execution_count": 19,
     "metadata": {},
     "output_type": "execute_result"
    }
   ],
   "source": [
    "y_pred = rnd_search_cv.best_estimator_.predict(X_train_scaled)\n",
    "accuracy_score(y_train, y_pred)"
   ]
  },
  {
   "cell_type": "code",
   "execution_count": 20,
   "metadata": {},
   "outputs": [
    {
     "data": {
      "text/plain": [
       "0.9709"
      ]
     },
     "execution_count": 20,
     "metadata": {},
     "output_type": "execute_result"
    }
   ],
   "source": [
    "y_pred = rnd_search_cv.best_estimator_.predict(X_test_scaled)\n",
    "accuracy_score(y_test, y_pred)"
   ]
  },
  {
   "cell_type": "code",
   "execution_count": 21,
   "metadata": {},
   "outputs": [],
   "source": [
    "# A possibility of overfitting the data since the training score is better than the test_score"
   ]
  },
  {
   "cell_type": "code",
   "execution_count": null,
   "metadata": {},
   "outputs": [],
   "source": []
  }
 ],
 "metadata": {
  "kernelspec": {
   "display_name": "Python 3",
   "language": "python",
   "name": "python3"
  },
  "language_info": {
   "codemirror_mode": {
    "name": "ipython",
    "version": 3
   },
   "file_extension": ".py",
   "mimetype": "text/x-python",
   "name": "python",
   "nbconvert_exporter": "python",
   "pygments_lexer": "ipython3",
   "version": "3.8.2"
  }
 },
 "nbformat": 4,
 "nbformat_minor": 4
}
